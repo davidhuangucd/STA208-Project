{
 "cells": [
  {
   "cell_type": "markdown",
   "metadata": {},
   "source": [
    "## Loading necessary modules"
   ]
  },
  {
   "cell_type": "code",
   "execution_count": 43,
   "metadata": {
    "collapsed": true
   },
   "outputs": [],
   "source": [
    "import pandas as pd\n",
    "import datetime\n",
    "import numpy as np\n",
    "from datetime import timedelta\n",
    "import geocoder"
   ]
  },
  {
   "cell_type": "code",
   "execution_count": null,
   "metadata": {
    "collapsed": true
   },
   "outputs": [],
   "source": []
  },
  {
   "cell_type": "markdown",
   "metadata": {},
   "source": [
    "## Use Ticketmaster Discovery API to get the event data"
   ]
  },
  {
   "cell_type": "code",
   "execution_count": 10,
   "metadata": {
    "collapsed": false
   },
   "outputs": [
    {
     "name": "stdout",
     "output_type": "stream",
     "text": [
      "[38.4829, -121.64]\n"
     ]
    }
   ],
   "source": [
    "g = geocoder.ip('me')\n",
    "print(g.latlng)"
   ]
  },
  {
   "cell_type": "code",
   "execution_count": 11,
   "metadata": {
    "collapsed": true
   },
   "outputs": [],
   "source": [
    "today = datetime.date.today()\n",
    "endDate = today + timedelta(days=5)\n",
    "today_str = today.strftime('%Y-%m-%dT%H:%M:%SZ')\n",
    "endDate_str = endDate.strftime('%Y-%m-%dT%H:%M:%SZ')"
   ]
  },
  {
   "cell_type": "code",
   "execution_count": 12,
   "metadata": {
    "collapsed": true
   },
   "outputs": [],
   "source": [
    "mykey=\"Abiv3plK1RopGuqNsk8eduAiyvhTVPdI\"\n",
    "import ticketpy\n",
    "tm_client = ticketpy.ApiClient(mykey)\n",
    "\n",
    "pages = tm_client.events.find(\n",
    "    #latlong=g.latlng,\n",
    "    state_code='CA',\n",
    "    start_date_time=today_str,\n",
    "    end_date_time=endDate_str,\n",
    ")\n",
    "## test the API"
   ]
  },
  {
   "cell_type": "code",
   "execution_count": 16,
   "metadata": {
    "collapsed": false
   },
   "outputs": [],
   "source": [
    "def extract_cont(x,label):\n",
    "    if(label in x.keys()):\n",
    "        return(x[label])\n",
    "    else:\n",
    "        return(None)\n",
    "def extract_information(event):\n",
    "    \n",
    "    event_content=event.json## transfrom event to json \n",
    "    \n",
    "    ## general information of this event\n",
    "    name=extract_cont(event_content,\"name\") \n",
    "    url=extract_cont(event_content,\"url\") \n",
    "    image=extract_cont(event_content[\"images\"][0],\"url\")\n",
    "    '''\n",
    "    ## somtimes no end time\n",
    "    time_start=extract_cont(time,\"start\")\n",
    "    time_end=extract_cont(time,\"end\")\n",
    "    if(time_start):\n",
    "        time_start=time_start[\"localDate\"]\n",
    "    else:\n",
    "        time_start=None\n",
    "    \n",
    "    if(time_end):\n",
    "        time_end=time_end[\"localDate\"]\n",
    "    else:\n",
    "        time_end=None\n",
    "    '''   \n",
    "    classifcation =extract_cont(event_content,\"classifications\")\n",
    "    if( classifcation ):\n",
    "        classifcation=classifcation[0]\n",
    "    else:\n",
    "        return(None)\n",
    "    genre=extract_cont(classifcation,\"genre\")\n",
    "    if(genre):\n",
    "        genre=genre[\"name\"]\n",
    "    else:\n",
    "        genre=None\n",
    "    category=extract_cont(classifcation,\"segment\")\n",
    "    \n",
    "    if(category):\n",
    "        category=category[\"name\"]\n",
    "    else:\n",
    "        category=None\n",
    "    ## extract location \n",
    "\n",
    "    venue=event_content['_embedded'][\"venues\"][0]\n",
    "    lat=venue[\"location\"]['latitude']\n",
    "    lon=venue[\"location\"]['longitude']\n",
    "    city=venue[\"city\"]['name']\n",
    "\n",
    "    place=venue['name']\n",
    "    return({ \"name\":name,\"link\":url,\"image\":image,\"genre\":genre,\"category\":category,\n",
    "            #\"TimeStart\":time_start,\"TimeEnd\":time_end,\n",
    "            \"latitude\":lat,'longtitude':lon,\"city\":city,\"place\":place})"
   ]
  },
  {
   "cell_type": "code",
   "execution_count": 28,
   "metadata": {
    "collapsed": true
   },
   "outputs": [],
   "source": [
    "r=[]\n",
    "for page in pages:\n",
    "    for event in page:\n",
    "        r.append(event)"
   ]
  },
  {
   "cell_type": "code",
   "execution_count": 32,
   "metadata": {
    "collapsed": false
   },
   "outputs": [],
   "source": [
    "r2=[]\n",
    "for event in r:\n",
    "    t=extract_information(event)\n",
    "    if(t!=None):\n",
    "        r2.append(t)\n",
    "data=pd.DataFrame(r2)\n",
    "data=data.loc[data[\"category\"]!=\"Undefined\"] ## remove undefined category"
   ]
  },
  {
   "cell_type": "code",
   "execution_count": 192,
   "metadata": {
    "collapsed": true
   },
   "outputs": [],
   "source": [
    "indices=data.groupby(\"category\").indices"
   ]
  },
  {
   "cell_type": "markdown",
   "metadata": {},
   "source": [
    "## Implement the prototype of EXP3 alg and test it(appox the true reward/preference)"
   ]
  },
  {
   "cell_type": "code",
   "execution_count": 118,
   "metadata": {
    "collapsed": true
   },
   "outputs": [],
   "source": [
    "def update_prob(gamma,weight):\n",
    "    return((1-gamma)*weight/sum(weight) + gamma/len(weight))"
   ]
  },
  {
   "cell_type": "code",
   "execution_count": 127,
   "metadata": {
    "collapsed": true
   },
   "outputs": [],
   "source": [
    "def Exp3_simulator(max_iteration,gamma,options,true_rewards):\n",
    "    \n",
    "    def reward():\n",
    "        print(\"Like it or Not? Y/N\")\n",
    "        x=input()\n",
    "        if(x==\"Y\"):\n",
    "            return(1)\n",
    "        elif(x==\"N\"):\n",
    "            return(-1)\n",
    "        else:\n",
    "            return(0)\n",
    "    \n",
    "    num = len(options)\n",
    "    \n",
    "    weights = np.ones(num) ## initial weights are the same for all options\n",
    "    weights=weights/sum(weights)\n",
    "    \n",
    "    for t in range(max_iteration): ### maximum run for 1000 loops\n",
    "        \n",
    "        prob = update_prob(gamma, weights)\n",
    "        \n",
    "        choice=np.random.choice(num, 1, p=prob) ## randomly choose one option based on the caculated probability\n",
    "        \n",
    "        if(len(true_rewards)>0): ## exist the true_reward \n",
    "            \n",
    "            theReward = 2*np.random.binomial(n=1, p=true_rewards[choice]) -1 ## 0/1 response to -1/+1\n",
    "            ## randomly generate reward based on true reward\n",
    "        else:\n",
    "            print(choice)\n",
    "            theReward = reward()\n",
    "            ## get reward from input \n",
    "\n",
    "        estimatedReward = 1.0 * theReward / prob[choice]\n",
    "        weights[choice] = weights[choice]*np.exp(estimatedReward * gamma / num)\n",
    "        # important that we use estimated reward here!\n",
    "    return(weights)"
   ]
  },
  {
   "cell_type": "code",
   "execution_count": 124,
   "metadata": {
    "collapsed": false
   },
   "outputs": [],
   "source": [
    "x=range(5)\n",
    "N=len(x)\n",
    "truth = np.random.uniform(low=0, high=1, size=N) # \n",
    "y=Exp3_simulator(1000,0.07,x,truth)"
   ]
  },
  {
   "cell_type": "code",
   "execution_count": 125,
   "metadata": {
    "collapsed": false
   },
   "outputs": [
    {
     "name": "stdout",
     "output_type": "stream",
     "text": [
      "True_reward:\n",
      "[0.42946645 0.91542257 0.86469688 0.4473021  0.28995334]\n",
      "Estimated_reward:\n",
      "[9.68934976e-02 4.17519337e+04 2.03359540e+03 1.15326025e-02\n",
      " 6.50409561e-04]\n"
     ]
    }
   ],
   "source": [
    "print(\"True_reward:\")\n",
    "print(truth)\n",
    "print(\"Estimated_reward:\")\n",
    "print(y)"
   ]
  },
  {
   "cell_type": "markdown",
   "metadata": {},
   "source": [
    "Instead of using true reward and randomly generated reward.\n",
    "It can also get the reward from screen standard input (Like 1, Don't Like  -1).  \n",
    "Here I only input Y(like) when recommend 3,4, as we can see the estimated reward for them increased. "
   ]
  },
  {
   "cell_type": "code",
   "execution_count": 159,
   "metadata": {
    "collapsed": false
   },
   "outputs": [
    {
     "name": "stdout",
     "output_type": "stream",
     "text": [
      "[0]\n",
      "Like it or Not? Y/N\n",
      "N\n",
      "[1]\n",
      "Like it or Not? Y/N\n",
      "N\n",
      "[0]\n",
      "Like it or Not? Y/N\n",
      "N\n",
      "[2]\n",
      "Like it or Not? Y/N\n",
      "N\n",
      "[4]\n",
      "Like it or Not? Y/N\n",
      "Y\n",
      "[4]\n",
      "Like it or Not? Y/N\n",
      "Y\n",
      "[1]\n",
      "Like it or Not? Y/N\n",
      "N\n",
      "[3]\n",
      "Like it or Not? Y/N\n",
      "Y\n",
      "[1]\n",
      "Like it or Not? Y/N\n",
      "N\n",
      "[4]\n",
      "Like it or Not? Y/N\n",
      "Y\n"
     ]
    }
   ],
   "source": [
    "x=range(5)\n",
    "N=len(x)\n",
    "truth = np.random.uniform(low=0, high=1, size=N) # \n",
    "y=Exp3_simulator(10,0.1,x,true_rewards=[])"
   ]
  },
  {
   "cell_type": "code",
   "execution_count": 160,
   "metadata": {
    "collapsed": false
   },
   "outputs": [
    {
     "name": "stdout",
     "output_type": "stream",
     "text": [
      "Estimated_reward:\n",
      "[0.16281966 0.14514375 0.1818854  0.21998422 0.25979202]\n"
     ]
    }
   ],
   "source": [
    "print(\"Estimated_reward:\")\n",
    "print(y)"
   ]
  },
  {
   "cell_type": "code",
   "execution_count": null,
   "metadata": {
    "collapsed": true
   },
   "outputs": [],
   "source": []
  },
  {
   "cell_type": "markdown",
   "metadata": {},
   "source": [
    "### Implement it on our dataset got from TickmasterAPI "
   ]
  },
  {
   "cell_type": "code",
   "execution_count": null,
   "metadata": {
    "collapsed": true
   },
   "outputs": [],
   "source": []
  },
  {
   "cell_type": "code",
   "execution_count": 214,
   "metadata": {
    "collapsed": true
   },
   "outputs": [],
   "source": [
    "def recommend(event_indices,data):\n",
    "    n=len(event_indices)\n",
    "    choice=event_indices[np.random.choice(n,1)[0]]\n",
    "    event=data.iloc[[choice],:]\n",
    "    print(event[[\"name\",\"city\",\"place\",\"link\",\"category\",\"genre\"]])"
   ]
  },
  {
   "cell_type": "code",
   "execution_count": 215,
   "metadata": {
    "collapsed": false
   },
   "outputs": [],
   "source": [
    "def reward():\n",
    "        print(\"Like it or Not? Y/N\")\n",
    "        x=input()\n",
    "        if(x==\"Y\"):\n",
    "            return(1)\n",
    "        elif(x==\"N\"):\n",
    "            return(-1)\n",
    "        else:\n",
    "            return(0) ## here if input any other breaks the recommender system"
   ]
  },
  {
   "cell_type": "code",
   "execution_count": 216,
   "metadata": {
    "collapsed": true
   },
   "outputs": [],
   "source": [
    "gamma=0.1 ## set the speed parameter = 0.1\n",
    "options=list(indices.items())## transform it into list for indexing"
   ]
  },
  {
   "cell_type": "code",
   "execution_count": 217,
   "metadata": {
    "collapsed": false
   },
   "outputs": [
    {
     "name": "stdout",
     "output_type": "stream",
     "text": [
      "Recommend: Arts & Theatre\n",
      "            name  city        place  \\\n",
      "71  Chris Porter  Brea  Brea Improv   \n",
      "\n",
      "                                                 link        category   genre  \n",
      "71  https://www.ticketweb.com/event/chris-porter-b...  Arts & Theatre  Comedy  \n",
      "Like it or Not? Y/N\n",
      "Y\n",
      "Recommend: Film\n",
      "                                     name           city           place  \\\n",
      "292  2001: a Space Odyssey New 70mm Print  San Francisco  Castro Theater   \n",
      "\n",
      "                                                  link category          genre  \n",
      "292  https://www.ticketweb.com/event/2001-a-space-o...     Film  Miscellaneous  \n",
      "Like it or Not? Y/N\n",
      "H\n"
     ]
    }
   ],
   "source": [
    "Num=len(indices)\n",
    "weights = np.ones(Num)\n",
    "while(True):\n",
    "    \n",
    "    weights=weights/sum(weights)\n",
    "    probability =update_prob(gamma, weights)\n",
    "    choice=np.random.choice(Num, 1, p=probability)[0]\n",
    "    ## generate event by choice\n",
    "    print(\"Recommend: \"+ options[choice][0]) ## catrgory of recommendation\n",
    "    recommend(options[choice][1],data)\n",
    "    theReward = reward()  ## each time only update the weight\n",
    "    if(theReward==0):\n",
    "        break\n",
    "    estimatedReward = 1.0 * theReward / probability[choice]\n",
    "    weights[choice] = weights[choice]*np.exp(estimatedReward * gamma / Num)"
   ]
  },
  {
   "cell_type": "code",
   "execution_count": 221,
   "metadata": {
    "collapsed": false
   },
   "outputs": [],
   "source": [
    "s=data.iloc[2,:]"
   ]
  },
  {
   "cell_type": "code",
   "execution_count": 222,
   "metadata": {
    "collapsed": false
   },
   "outputs": [
    {
     "data": {
      "text/plain": [
       "'http://www.ticketsnow.com/InventoryBrowse/TicketList.aspx?PID=2318144'"
      ]
     },
     "execution_count": 222,
     "metadata": {},
     "output_type": "execute_result"
    }
   ],
   "source": [
    "s[\"link\"]"
   ]
  },
  {
   "cell_type": "markdown",
   "metadata": {},
   "source": [
    "### Implement it on our dataset got from TickmasterAPI  using Tkinster to get the resopnse(GUI Program)"
   ]
  },
  {
   "cell_type": "markdown",
   "metadata": {},
   "source": [
    "The code for the GUI implementation is here for review convienece, the actual working code are in .py file in the "
   ]
  },
  {
   "cell_type": "code",
   "execution_count": null,
   "metadata": {
    "collapsed": true
   },
   "outputs": [],
   "source": [
    "### GUI window design using tkinter "
   ]
  },
  {
   "cell_type": "code",
   "execution_count": 211,
   "metadata": {
    "collapsed": false
   },
   "outputs": [
    {
     "data": {
      "text/plain": [
       "array([0])"
      ]
     },
     "execution_count": 211,
     "metadata": {},
     "output_type": "execute_result"
    }
   ],
   "source": [
    "np.random.choice(5, 1, p=probability)"
   ]
  },
  {
   "cell_type": "code",
   "execution_count": 212,
   "metadata": {
    "collapsed": false
   },
   "outputs": [
    {
     "data": {
      "text/plain": [
       "array([0.2102663 , 0.21248291, 0.15671818, 0.2102663 , 0.2102663 ])"
      ]
     },
     "execution_count": 212,
     "metadata": {},
     "output_type": "execute_result"
    }
   ],
   "source": [
    "probability"
   ]
  },
  {
   "cell_type": "code",
   "execution_count": 213,
   "metadata": {
    "collapsed": true
   },
   "outputs": [],
   "source": [
    "?np.random.choice"
   ]
  },
  {
   "cell_type": "code",
   "execution_count": 284,
   "metadata": {
    "collapsed": false
   },
   "outputs": [],
   "source": [
    "df=pd.read_csv(\"Video_Games_Sales_as_at_22_Dec_2016.csv\")\n",
    "data=df.loc[:,[\"Name\",\"Platform\",\"Year_of_Release\",\"Genre\",\"Rating\"]]\n",
    "ind=data.groupby([\"Platform\"])[\"Name\"].count()"
   ]
  },
  {
   "cell_type": "code",
   "execution_count": 334,
   "metadata": {
    "collapsed": false,
    "scrolled": true
   },
   "outputs": [],
   "source": [
    "data2=data.set_index(\"Platform\").loc[ind_pl,:].reset_index()\n",
    "ind_pl=list(ind.index[ind>500])\n",
    "indices=data2.groupby(\"Genre\").indices\n",
    "options=list(indices.items())## transform it into list for indexing"
   ]
  },
  {
   "cell_type": "code",
   "execution_count": 335,
   "metadata": {
    "collapsed": false
   },
   "outputs": [],
   "source": [
    "data2[\"Year_of_Release\"]=data2[\"Year_of_Release\"].fillna(\"NaN.0\")"
   ]
  },
  {
   "cell_type": "code",
   "execution_count": 338,
   "metadata": {
    "collapsed": false
   },
   "outputs": [],
   "source": [
    "t=data2[\"Year_of_Release\"][14301]"
   ]
  },
  {
   "cell_type": "code",
   "execution_count": 339,
   "metadata": {
    "collapsed": false
   },
   "outputs": [
    {
     "data": {
      "text/plain": [
       "'NaN'"
      ]
     },
     "execution_count": 339,
     "metadata": {},
     "output_type": "execute_result"
    }
   ],
   "source": [
    "t[:-2]"
   ]
  },
  {
   "cell_type": "code",
   "execution_count": 337,
   "metadata": {
    "collapsed": false
   },
   "outputs": [
    {
     "data": {
      "text/plain": [
       "array([   77,   120,   136, ..., 14293, 14313, 14320])"
      ]
     },
     "execution_count": 337,
     "metadata": {},
     "output_type": "execute_result"
    }
   ],
   "source": [
    "np.delete(s,0)"
   ]
  },
  {
   "cell_type": "code",
   "execution_count": 308,
   "metadata": {
    "collapsed": false
   },
   "outputs": [],
   "source": [
    "options[0]=list(options[0])"
   ]
  },
  {
   "cell_type": "code",
   "execution_count": 310,
   "metadata": {
    "collapsed": false
   },
   "outputs": [
    {
     "data": {
      "text/plain": [
       "[['Action', array([    9,    10,    14, ..., 14316, 14322, 14325])],\n",
       " ['Adventure', array([   53,    77,   120, ..., 14293, 14313, 14320])],\n",
       " ['Fighting',\n",
       "  array([    6,    41,   105,   131,   171,   190,   265,   281,   295,\n",
       "           321,   336,   371,   464,   466,   706,   774,   796,   820,\n",
       "           844,   884,   930,   935,   943,  1000,  1144,  1231,  1269,\n",
       "          1303,  1322,  1346,  1388,  1505,  1639,  1652,  1701,  1705,\n",
       "          1759,  1774,  1825,  1828,  1830,  1995,  2013,  2023,  2078,\n",
       "          2082,  2116,  2133,  2242,  2312,  2738,  2824,  2848,  2943,\n",
       "          2955,  2979,  3024,  3097,  3105,  3133,  3135,  3187,  3213,\n",
       "          3222,  3238,  3251,  3279,  3321,  3365,  3403,  3465,  3470,\n",
       "          3490,  3494,  3519,  3538,  3557,  3563,  3566,  3590,  3598,\n",
       "          3600,  3612,  3624,  3637,  3639,  3644,  3655,  3665,  3681,\n",
       "          3695,  3708,  3714,  3716,  3729,  3742,  3788,  3800,  3803,\n",
       "          3814,  3824,  3826,  3850,  3857,  3862,  3887,  3902,  3912,\n",
       "          3921,  3927,  3957,  3969,  3980,  3984,  3985,  4336,  4471,\n",
       "          4497,  4770,  4835,  4960,  5029,  5035,  5054,  5061,  5063,\n",
       "          5065,  5073,  5097,  5105,  5112,  5121,  5129,  5133,  5140,\n",
       "          5141,  5144,  5154,  5164,  5178,  5190,  5221,  5243,  5260,\n",
       "          5284,  5291,  5294,  5301,  5305,  5315,  5316,  5336,  5345,\n",
       "          5376,  5379,  5393,  5395,  5407,  5410,  5411,  5424,  5457,\n",
       "          5469,  5481,  5496,  5505,  5516,  5531,  5564,  5571,  5589,\n",
       "          5593,  5595,  5600,  5610,  5620,  5626,  5633,  5651,  5661,\n",
       "          5662,  5672,  5673,  5689,  5696,  5707,  5712,  5713,  5736,\n",
       "          5737,  5743,  5744,  5771,  5789,  5804,  5815,  5833,  5861,\n",
       "          5864,  5887,  5888,  5891,  5894,  5895,  5901,  5922,  5924,\n",
       "          5932,  5942,  5946,  5982,  5984,  5993,  6010,  6040,  6062,\n",
       "          6064,  6068,  6074,  6079,  6081,  6119,  6165,  6180,  6186,\n",
       "          6192,  6207,  6214,  6218,  6258,  6261,  6277,  6289,  6292,\n",
       "          6293,  6299,  6304,  6305,  6306,  6320,  6325,  6327,  6334,\n",
       "          6350,  6358,  6359,  6364,  6376,  6383,  6406,  6422,  6436,\n",
       "          6487,  6529,  6530,  6531,  6543,  6588,  6592,  6596,  6609,\n",
       "          6616,  6623,  6631,  6635,  6636,  6641,  6653,  6673,  6677,\n",
       "          6701,  6714,  6716,  6748,  6761,  6790,  6869,  6872,  6881,\n",
       "          6888,  6922,  7000,  7006,  7034,  7035,  7046,  7056,  7069,\n",
       "          7075,  7101,  7109,  7115,  7123,  7126,  7156,  7158,  7171,\n",
       "          7197,  7232,  7245,  7253,  7284,  7330,  7338,  7355,  7361,\n",
       "          7382,  7389,  7396,  7418,  7453,  7478,  7512,  7513,  7543,\n",
       "          7545,  7550,  7567,  7575,  7583,  7607,  7613,  7625,  7666,\n",
       "          7669,  7686,  7689,  7694,  7698,  7713,  7722,  7738,  7752,\n",
       "          7755,  7772,  7785,  7789,  7836,  7840,  7847,  7867,  7876,\n",
       "          7911,  7919,  7922,  7949,  7966,  7980,  8004,  8018,  8023,\n",
       "          8029,  8054,  8055,  8058,  8061,  8070,  8087,  8089,  8107,\n",
       "          8147,  8158,  8165,  8171,  8173,  8195,  8209,  8219,  8254,\n",
       "          8269,  8275,  8325,  8336,  8337,  8338,  8349,  8353,  8362,\n",
       "          8367,  8419,  8437,  8443,  8481,  8495,  8506,  8517,  8524,\n",
       "          8531,  8540,  8544,  8567,  8572,  8575,  8576,  8592,  8597,\n",
       "          8598,  8603,  8642,  8644,  8677,  8678,  8692,  8700,  8710,\n",
       "          8715,  8734,  8736,  8773,  8795,  8806,  8811,  8815,  8835,\n",
       "          8839,  8868,  8871,  8900,  8921,  8922,  8925,  8950,  8956,\n",
       "          8972,  9010,  9014,  9016,  9018,  9020,  9167,  9201,  9229,\n",
       "          9243,  9252,  9299,  9315,  9332,  9375,  9376,  9398,  9409,\n",
       "          9423,  9472,  9474,  9476,  9500,  9539,  9544,  9551,  9591,\n",
       "          9597,  9632,  9679,  9698,  9701,  9724,  9728,  9736,  9752,\n",
       "          9778,  9801,  9804,  9812,  9819,  9832,  9845,  9853,  9857,\n",
       "          9874,  9880,  9884,  9896,  9903,  9926,  9935,  9940,  9945,\n",
       "          9947,  9984,  9986,  9989, 10018, 10044, 10047, 10055, 10087,\n",
       "         10107, 10115, 10132, 10138, 10179, 10208, 10227, 10255, 10285,\n",
       "         10297, 10308, 10320, 10336, 10341, 10357, 10359, 10366, 10368,\n",
       "         10379, 10391, 10408, 10412, 10413, 10419, 10422, 10433, 10444,\n",
       "         10471, 10474, 10510, 10524, 10553, 10598, 10607, 10636, 10655,\n",
       "         10671, 10691, 10762, 10834, 10837, 10870, 10896, 10929, 11071,\n",
       "         11076, 11081, 11121, 11147, 11226, 11237, 11272, 11337, 11358,\n",
       "         11367, 11373, 11394, 11434, 11512, 11525, 11586, 11653, 11665,\n",
       "         11672, 11705, 11802, 11835, 11850, 11887, 11918, 11946, 11984,\n",
       "         11987, 11988, 11992, 11996, 12002, 12017, 12087, 12093, 12112,\n",
       "         12121, 12173, 12174, 12239, 12302, 12346, 12350, 12363, 12387,\n",
       "         12399, 12404, 12408, 12410, 12422, 12427, 12430, 12453, 12462,\n",
       "         12498, 12513, 12546, 12547, 12600, 12618, 12627, 12654, 12667,\n",
       "         12668, 12672, 12686, 12699, 12706, 12716, 12723, 12760, 12779,\n",
       "         12785, 12792, 12793, 12800, 12814, 12830, 12847, 12877, 12933,\n",
       "         12960, 13014, 13128, 13135, 13137, 13185, 13265, 13279, 13280,\n",
       "         13283, 13299, 13304, 13316, 13318, 13327, 13335, 13355, 13360,\n",
       "         13378, 13382, 13389, 13415, 13417, 13499, 13516, 13557, 13561,\n",
       "         13583, 13601, 13603, 13619, 13631, 13636, 13644, 13659, 13671,\n",
       "         13720, 13735, 13747, 13749, 13755, 13788, 13807, 13837, 13877,\n",
       "         13894, 13896, 13909, 13920, 13925, 13930, 13959, 13967, 13968,\n",
       "         13972, 13998, 14004, 14007, 14017, 14022, 14185, 14207, 14212,\n",
       "         14250, 14252, 14259, 14261, 14272, 14278, 14282, 14288, 14296])],\n",
       " ['Misc', array([   26,    65,    67, ..., 14235, 14287, 14307])],\n",
       " ['Platform',\n",
       "  array([    3,     4,    27,    28,    33,    35,    47,    71,    80,\n",
       "            92,   122,   163,   165,   176,   184,   225,   233,   237,\n",
       "           240,   256,   293,   300,   301,   354,   404,   405,   420,\n",
       "           439,   520,   529,   554,   558,   561,   582,   584,   609,\n",
       "           625,   638,   649,   652,   659,   685,   713,   715,   737,\n",
       "           743,   777,   804,   823,   838,   840,   843,   868,   878,\n",
       "           898,   910,   926,   929,   932,   959,   973,   994,  1003,\n",
       "          1004,  1045,  1048,  1053,  1088,  1152,  1170,  1246,  1288,\n",
       "          1296,  1348,  1369,  1394,  1411,  1418,  1440,  1450,  1459,\n",
       "          1476,  1538,  1544,  1555,  1632,  1641,  1683,  1694,  1704,\n",
       "          1712,  1731,  1738,  1770,  1881,  1911,  1928,  1943,  1948,\n",
       "          1958,  1989,  2043,  2059,  2076,  2122,  2130,  2150,  2165,\n",
       "          2166,  2333,  2404,  2457,  2464,  2489,  2506,  2516,  2521,\n",
       "          2548,  2619,  2675,  2677,  2678,  2681,  2685,  2686,  2687,\n",
       "          2688,  2694,  2698,  2702,  2708,  2709,  2711,  2712,  2713,\n",
       "          2715,  2716,  2722,  2723,  2724,  2729,  2739,  2748,  2749,\n",
       "          2754,  2756,  2763,  2772,  2779,  2780,  2783,  2790,  2812,\n",
       "          2814,  2815,  2823,  2827,  2833,  2839,  2840,  2841,  2842,\n",
       "          2846,  2851,  2858,  2859,  2863,  2866,  2868,  2881,  2896,\n",
       "          2897,  2899,  2901,  2903,  2905,  2911,  2921,  2922,  2929,\n",
       "          2934,  2944,  2945,  2949,  2954,  2965,  2975,  2978,  2980,\n",
       "          2981,  2993,  2997,  3004,  3011,  3017,  3021,  3022,  3031,\n",
       "          3036,  3039,  3048,  3061,  3065,  3071,  3113,  3114,  3118,\n",
       "          3121,  3128,  3130,  3134,  3138,  3139,  3145,  3154,  3165,\n",
       "          3170,  3172,  3183,  3186,  3188,  3192,  3197,  3202,  3206,\n",
       "          3221,  3231,  3233,  3234,  3240,  3241,  3266,  3272,  3281,\n",
       "          3300,  3301,  3323,  3332,  3340,  3342,  3355,  3360,  3370,\n",
       "          3374,  3375,  3378,  3381,  3383,  3385,  3387,  3396,  3397,\n",
       "          3427,  3436,  3452,  3461,  3462,  3475,  3486,  3492,  3493,\n",
       "          3496,  3501,  3514,  3525,  3528,  3539,  3541,  3543,  3544,\n",
       "          3559,  3567,  3577,  3601,  3609,  3613,  3629,  3636,  3641,\n",
       "          3643,  3653,  3658,  3667,  3668,  3674,  3680,  3682,  3693,\n",
       "          3709,  3717,  3719,  3721,  3724,  3728,  3734,  3736,  3737,\n",
       "          3740,  3743,  3745,  3746,  3755,  3760,  3764,  3766,  3769,\n",
       "          3794,  3801,  3808,  3809,  3844,  3849,  3853,  3863,  3883,\n",
       "          3894,  3906,  3908,  3909,  3928,  3947,  3950,  3951,  3960,\n",
       "          3968,  3975,  3983,  3988,  3999,  4003,  4021,  4028,  4032,\n",
       "          4034,  4354,  4419,  4447,  4478,  4601,  4661,  4672,  4696,\n",
       "          4811,  4898,  4921,  5028,  5030,  5031,  5041,  5053,  5055,\n",
       "          5058,  5068,  5072,  5110,  5118,  5162,  5171,  5230,  5249,\n",
       "          5252,  5268,  5293,  5297,  5335,  5338,  5341,  5359,  5368,\n",
       "          5386,  5475,  5526,  5538,  5547,  5560,  5563,  5566,  5583,\n",
       "          5587,  5616,  5642,  5653,  5674,  5686,  5690,  5720,  5725,\n",
       "          5739,  5745,  5792,  5821,  5825,  5838,  5857,  5871,  5875,\n",
       "          5957,  5985,  5986,  6002,  6016,  6043,  6082,  6097,  6098,\n",
       "          6136,  6173,  6174,  6185,  6233,  6266,  6281,  6296,  6308,\n",
       "          6309,  6321,  6346,  6354,  6368,  6371,  6377,  6382,  6402,\n",
       "          6464,  6468,  6488,  6494,  6500,  6507,  6525,  6553,  6577,\n",
       "          6604,  6607,  6625,  6628,  6638,  6670,  6681,  6690,  6691,\n",
       "          6693,  6696,  6702,  6707,  6715,  6718,  6731,  6788,  6789,\n",
       "          6800,  6829,  6833,  6847,  6892,  6942,  6968,  6980,  6981,\n",
       "          6990,  6996,  7010,  7028,  7059,  7072,  7077,  7083,  7098,\n",
       "          7120,  7155,  7166,  7168,  7178,  7184,  7195,  7268,  7283,\n",
       "          7300,  7335,  7367,  7369,  7393,  7522,  7529,  7535,  7589,\n",
       "          7642,  7652,  7654,  7667,  7676,  7680,  7682,  7747,  7748,\n",
       "          7757,  7762,  7766,  7781,  7783,  7832,  7870,  7879,  8007,\n",
       "          8030,  8033,  8181,  8187,  8243,  8248,  8306,  8318,  8402,\n",
       "          8426,  8449,  8489,  8512,  8579,  8585,  8586,  8618,  8619,\n",
       "          8620,  8664,  8751,  8753,  8775,  8812,  8828,  8831,  8874,\n",
       "          8893,  8928,  8964,  9070,  9091,  9146,  9179,  9223,  9373,\n",
       "          9377,  9384,  9411,  9413,  9444,  9484,  9536,  9553,  9696,\n",
       "          9717,  9718,  9726,  9813,  9826,  9831,  9844,  9878,  9885,\n",
       "          9900,  9920,  9954,  9962, 10011, 10080, 10116, 10141, 10178,\n",
       "         10242, 10282, 10303, 10342, 10358, 10360, 10376, 10378, 10418,\n",
       "         10469, 10480, 10491, 10494, 10610, 10633, 10663, 10739, 10871,\n",
       "         10926, 10930, 10936, 10941, 10953, 10959, 10964, 10966, 10979,\n",
       "         10980, 10985, 11003, 11007, 11055, 11057, 11060, 11075, 11086,\n",
       "         11190, 11208, 11214, 11216, 11246, 11256, 11273, 11300, 11302,\n",
       "         11315, 11425, 11437, 11452, 11497, 11553, 11557, 11623, 11657,\n",
       "         11667, 11788, 11790, 11800, 11807, 11867, 11882, 11893, 11922,\n",
       "         11965, 11975, 12016, 12055, 12069, 12084, 12086, 12122, 12140,\n",
       "         12147, 12156, 12207, 12212, 12411, 12421, 12437, 12463, 12487,\n",
       "         12549, 12556, 12611, 12640, 12701, 12735, 12834, 12873, 13033,\n",
       "         13093, 13164, 13186, 13187, 13188, 13206, 13257, 13258, 13268,\n",
       "         13288, 13483, 13537, 13568, 13587, 13627, 13632, 13638, 13641,\n",
       "         13708, 13753, 13790, 13819, 13851, 13859, 13888, 13902, 13905,\n",
       "         13918, 13919, 13924, 13933, 13939, 13941, 13961, 13963, 13970,\n",
       "         13992, 14000, 14008, 14028, 14036, 14055, 14088, 14092, 14095,\n",
       "         14099, 14102, 14110, 14115, 14151, 14164, 14168, 14196, 14206,\n",
       "         14234, 14244, 14255, 14266, 14289, 14319])],\n",
       " ['Puzzle',\n",
       "  array([   29,    60,    64,    99,   106,   134,   251,   271,   280,\n",
       "           288,   297,   306,   316,   325,   349,   362,   434,   473,\n",
       "           511,   514,   525,   536,   541,   552,   562,   563,   567,\n",
       "           571,   572,   574,   580,   592,   608,   618,   636,   661,\n",
       "           677,   689,   698,   701,   740,   759,   779,   793,   795,\n",
       "           810,   815,   819,   828,   841,   847,   850,   863,   867,\n",
       "           908,   925,   955,   958,   963,   964,   987,   990,   997,\n",
       "          1001,  1024,  1027,  1029,  1030,  1035,  1049,  1056,  1058,\n",
       "          1064,  1065,  1082,  1093,  1121,  1126,  1134,  1136,  1138,\n",
       "          1169,  1173,  1176,  1187,  1197,  1212,  1225,  1233,  1235,\n",
       "          1251,  1255,  1279,  1281,  1284,  1293,  1294,  1300,  1316,\n",
       "          1326,  1343,  1344,  1350,  1353,  1357,  1360,  1361,  1378,\n",
       "          1380,  1382,  1384,  1385,  1396,  1403,  1417,  1426,  1434,\n",
       "          1443,  1461,  1467,  1472,  1487,  1497,  1512,  1513,  1514,\n",
       "          1517,  1520,  1533,  1537,  1539,  1556,  1560,  1562,  1563,\n",
       "          1577,  1582,  1587,  1615,  1617,  1628,  1642,  1645,  1659,\n",
       "          1665,  1679,  1695,  1700,  1711,  1724,  1732,  1740,  1741,\n",
       "          1750,  1755,  1769,  1791,  1803,  1820,  1822,  1829,  1844,\n",
       "          1852,  1853,  1858,  1860,  1867,  1876,  1878,  1912,  1921,\n",
       "          1947,  1959,  1962,  1967,  1968,  1971,  1978,  1982,  1990,\n",
       "          2004,  2011,  2014,  2018,  2033,  2051,  2067,  2086,  2087,\n",
       "          2102,  2110,  2112,  2126,  2142,  2145,  2149,  2151,  2156,\n",
       "          2157,  2160,  2182,  2204,  2211,  2214,  2217,  2222,  2233,\n",
       "          2236,  2245,  2251,  2255,  2262,  2265,  2270,  2289,  2293,\n",
       "          2303,  2304,  2332,  2336,  2339,  2358,  2367,  2373,  2384,\n",
       "          2407,  2411,  2416,  2426,  2438,  2446,  2448,  2450,  2460,\n",
       "          2483,  2493,  2496,  2499,  2520,  2524,  2528,  2532,  2540,\n",
       "          2545,  2547,  2582,  2595,  2597,  2615,  2623,  2629,  2639,\n",
       "          2641,  2655,  2666,  2669,  2680,  2703,  2725,  2732,  2761,\n",
       "          2767,  2805,  2807,  2837,  2907,  2918,  2952,  2983,  2995,\n",
       "          3092,  3142,  3194,  3198,  3236,  3249,  3250,  3265,  3275,\n",
       "          3291,  3297,  3305,  3308,  3309,  3314,  3315,  3343,  3347,\n",
       "          3388,  3392,  3394,  3417,  3447,  3449,  3480,  3481,  3485,\n",
       "          3518,  3521,  3560,  3611,  3699,  3798,  3866,  3931,  3971,\n",
       "          4009,  4037,  4046,  4048,  4248,  4378,  4396,  4488,  4503,\n",
       "          4539,  4605,  4633,  4647,  4704,  4748,  4752,  4755,  4768,\n",
       "          4839,  4857,  4870,  4871,  4893,  4951,  4953,  4957,  4965,\n",
       "          5009,  5016,  5079,  5165,  5174,  5193,  5223,  5264,  5274,\n",
       "          5439,  5514,  5522,  5533,  5562,  5675,  5704,  5800,  5827,\n",
       "          5869,  5898,  5945,  5963,  6009,  6015,  6049,  6060,  6099,\n",
       "          6110,  6112,  6134,  6144,  6187,  6203,  6219,  6349,  6646,\n",
       "          6745,  6809,  6868,  7090,  7192,  7467,  7593,  7597,  7670,\n",
       "          7734,  7998,  8006,  8059,  8145,  8180,  8225,  8923,  9284,\n",
       "          9534,  9759,  9783,  9842,  9958, 10016, 10064, 10125, 10163,\n",
       "         10192, 10199, 10234, 10243, 10306, 10316, 10337, 10338, 10339,\n",
       "         10340, 10352, 10354, 10365, 10405, 10407, 10463, 10490, 10526,\n",
       "         10536, 10566, 10579, 10580, 10591, 10595, 10619, 10632, 10640,\n",
       "         10641, 10678, 10704, 10726, 10778, 10782, 10806, 10836, 10918,\n",
       "         10961, 11002, 11026, 11050, 11115, 11140, 11164, 11165, 11211,\n",
       "         11274, 11429, 11453, 11456, 11531, 11622, 11630, 11637, 11638,\n",
       "         11649, 11659, 11676, 11687, 11703, 11731, 11735, 11746, 11767,\n",
       "         11778, 11791, 11916, 11995, 12010, 12011, 12015, 12021, 12022,\n",
       "         12030, 12034, 12038, 12062, 12085, 12094, 12107, 12116, 12131,\n",
       "         12161, 12163, 12167, 12181, 12182, 12189, 12192, 12221, 12231,\n",
       "         12237, 12818, 13114, 13156, 13207, 13282, 13385, 13392, 13834,\n",
       "         14029, 14173, 14256, 14281, 14314, 14326])],\n",
       " ['Racing', array([    1,    90,    96, ..., 14318, 14321, 14324])],\n",
       " ['Role-Playing', array([    0,     2,     7, ..., 14226, 14236, 14245])],\n",
       " ['Shooter', array([   51,   314,   343, ..., 14304, 14305, 14306])],\n",
       " ['Simulation',\n",
       "  array([    5,     8,    12,    17,    50,    62,    68,    78,   109,\n",
       "           140,   159,   164,   179,   188,   196,   200,   218,   221,\n",
       "           245,   248,   273,   340,   342,   367,   402,   429,   441,\n",
       "           446,   465,   468,   493,   521,   527,   535,   545,   546,\n",
       "           559,   560,   565,   576,   588,   591,   601,   607,   621,\n",
       "           626,   628,   635,   641,   643,   645,   647,   650,   654,\n",
       "           655,   662,   664,   670,   671,   686,   690,   702,   711,\n",
       "           712,   717,   721,   723,   727,   730,   738,   741,   752,\n",
       "           755,   757,   758,   767,   770,   771,   773,   775,   776,\n",
       "           780,   781,   782,   788,   800,   806,   814,   849,   854,\n",
       "           859,   860,   861,   870,   872,   877,   888,   893,   912,\n",
       "           917,   919,   920,   927,   928,   941,   950,   954,   956,\n",
       "           968,   969,   974,   975,   981,  1009,  1012,  1016,  1023,\n",
       "          1025,  1034,  1037,  1044,  1046,  1050,  1061,  1070,  1072,\n",
       "          1076,  1083,  1100,  1101,  1107,  1115,  1124,  1127,  1133,\n",
       "          1140,  1145,  1151,  1153,  1166,  1181,  1191,  1195,  1204,\n",
       "          1219,  1221,  1223,  1240,  1241,  1245,  1247,  1250,  1267,\n",
       "          1298,  1302,  1331,  1336,  1338,  1351,  1356,  1383,  1387,\n",
       "          1405,  1420,  1445,  1447,  1451,  1454,  1455,  1474,  1477,\n",
       "          1478,  1493,  1496,  1501,  1518,  1521,  1541,  1550,  1557,\n",
       "          1566,  1575,  1581,  1585,  1586,  1593,  1595,  1600,  1602,\n",
       "          1623,  1635,  1640,  1643,  1651,  1664,  1666,  1673,  1680,\n",
       "          1699,  1706,  1717,  1734,  1736,  1754,  1762,  1767,  1773,\n",
       "          1779,  1792,  1795,  1804,  1812,  1817,  1819,  1824,  1836,\n",
       "          1855,  1861,  1879,  1896,  1934,  1945,  1952,  1954,  1963,\n",
       "          1970,  1974,  1975,  1977,  1981,  1986,  1987,  1997,  2009,\n",
       "          2019,  2037,  2040,  2041,  2056,  2058,  2071,  2074,  2075,\n",
       "          2088,  2089,  2090,  2094,  2128,  2144,  2148,  2164,  2170,\n",
       "          2175,  2184,  2193,  2205,  2210,  2213,  2215,  2223,  2230,\n",
       "          2247,  2260,  2274,  2277,  2295,  2297,  2306,  2311,  2322,\n",
       "          2324,  2327,  2328,  2330,  2338,  2379,  2385,  2386,  2398,\n",
       "          2399,  2401,  2409,  2413,  2414,  2420,  2429,  2433,  2452,\n",
       "          2455,  2462,  2477,  2488,  2491,  2495,  2498,  2508,  2519,\n",
       "          2525,  2538,  2550,  2566,  2574,  2579,  2580,  2602,  2611,\n",
       "          2614,  2626,  2631,  2638,  2640,  2645,  2651,  2660,  2671,\n",
       "          2718,  2787,  2788,  2800,  2857,  2879,  2889,  2932,  2941,\n",
       "          2992,  3030,  3084,  3175,  3179,  3262,  3271,  3296,  3468,\n",
       "          3499,  3507,  3552,  3568,  3591,  3618,  3640,  3670,  3686,\n",
       "          3770,  3781,  3941,  4050,  4053,  4059,  4061,  4062,  4074,\n",
       "          4075,  4081,  4083,  4085,  4087,  4097,  4102,  4106,  4110,\n",
       "          4123,  4142,  4146,  4150,  4155,  4162,  4170,  4173,  4180,\n",
       "          4181,  4182,  4186,  4199,  4208,  4211,  4222,  4223,  4226,\n",
       "          4237,  4254,  4303,  4312,  4319,  4337,  4346,  4364,  4381,\n",
       "          4390,  4399,  4404,  4407,  4412,  4413,  4414,  4425,  4428,\n",
       "          4431,  4435,  4437,  4473,  4480,  4490,  4491,  4498,  4507,\n",
       "          4514,  4523,  4526,  4530,  4534,  4545,  4546,  4556,  4558,\n",
       "          4582,  4584,  4587,  4588,  4602,  4603,  4621,  4640,  4646,\n",
       "          4662,  4666,  4670,  4680,  4689,  4703,  4705,  4718,  4719,\n",
       "          4726,  4728,  4740,  4743,  4757,  4758,  4764,  4766,  4789,\n",
       "          4800,  4815,  4820,  4824,  4825,  4827,  4829,  4830,  4844,\n",
       "          4850,  4856,  4873,  4880,  4899,  4901,  4906,  4926,  4928,\n",
       "          4941,  4947,  4948,  4958,  4977,  5019,  5102,  5149,  5177,\n",
       "          5183,  5186,  5202,  5203,  5215,  5224,  5233,  5247,  5265,\n",
       "          5281,  5322,  5346,  5354,  5363,  5425,  5449,  5465,  5466,\n",
       "          5484,  5499,  5504,  5524,  5537,  5544,  5557,  5569,  5572,\n",
       "          5584,  5594,  5603,  5617,  5622,  5649,  5665,  5719,  5798,\n",
       "          5826,  5855,  5866,  5929,  5935,  5954,  5955,  5970,  5978,\n",
       "          5991,  5996,  6006,  6028,  6035,  6053,  6113,  6121,  6128,\n",
       "          6142,  6197,  6212,  6287,  6310,  6326,  6339,  6343,  6375,\n",
       "          6385,  6386,  6388,  6394,  6510,  6512,  6538,  6568,  6612,\n",
       "          6618,  6619,  6652,  6661,  6669,  6762,  6822,  6835,  6862,\n",
       "          6864,  6937,  6962,  6975,  6997,  7037,  7045,  7052,  7087,\n",
       "          7091,  7119,  7122,  7137,  7160,  7172,  7231,  7238,  7248,\n",
       "          7252,  7255,  7295,  7343,  7411,  7454,  7466,  7474,  7531,\n",
       "          7578,  7627,  7655,  7715,  7721,  7724,  7750,  7768,  7811,\n",
       "          7853,  7861,  7883,  7905,  7924,  7932,  7939,  7946,  8003,\n",
       "          8031,  8035,  8066,  8072,  8120,  8139,  8150,  8151,  8161,\n",
       "          8163,  8172,  8177,  8185,  8188,  8197,  8198,  8203,  8246,\n",
       "          8257,  8261,  8262,  8484,  8594,  8607,  8624,  8750,  8759,\n",
       "          8910,  8933,  8953,  9058,  9108,  9152,  9161,  9168,  9185,\n",
       "          9189,  9195,  9219,  9256,  9278,  9286,  9344,  9362,  9466,\n",
       "          9479,  9538,  9602,  9642,  9681,  9702,  9705,  9740,  9770,\n",
       "          9792,  9794,  9968,  9979, 10082, 10113, 10121, 10146, 10214,\n",
       "         10266, 10276, 10326, 10329, 10345, 10351, 10398, 10438, 10456,\n",
       "         10462, 10478, 10630, 10642, 10731, 10758, 10818, 10861, 10944,\n",
       "         10960, 10984, 11009, 11012, 11019, 11029, 11051, 11112, 11114,\n",
       "         11119, 11124, 11146, 11184, 11201, 11233, 11248, 11261, 11268,\n",
       "         11269, 11288, 11290, 11307, 11323, 11326, 11346, 11356, 11361,\n",
       "         11375, 11376, 11379, 11407, 11420, 11423, 11433, 11446, 11461,\n",
       "         11467, 11470, 11471, 11475, 11483, 11543, 11544, 11582, 11602,\n",
       "         11604, 11632, 11633, 11654, 11685, 11710, 11713, 11720, 11724,\n",
       "         11748, 11760, 11782, 11785, 11799, 11813, 11837, 11856, 11876,\n",
       "         11892, 11900, 11911, 11923, 11960, 11972, 11982, 11994, 12047,\n",
       "         12056, 12061, 12066, 12138, 12141, 12144, 12146, 12148, 12149,\n",
       "         12187, 12198, 12200, 12210, 12240, 12337, 12382, 12383, 12470,\n",
       "         12583, 12665, 12676, 12702, 12743, 12749, 12768, 12781, 12816,\n",
       "         12849, 12868, 12923, 12964, 12966, 12993, 13000, 13024, 13065,\n",
       "         13070, 13090, 13098, 13116, 13119, 13253, 13275, 13278, 13293,\n",
       "         13294, 13300, 13319, 13322, 13346, 13348, 13354, 13402, 13406,\n",
       "         13546, 13572, 13629, 13643, 13680, 13684, 13687, 13691, 13701,\n",
       "         13705, 13712, 13771, 13780, 13944, 14038, 14041, 14076, 14116,\n",
       "         14123, 14146, 14175, 14211, 14233, 14263])],\n",
       " ['Sports', array([   42,    49,   100, ..., 14317, 14323, 14327])],\n",
       " ['Strategy',\n",
       "  array([  116,   128,   130,   133,   180,   255,   357,   375,   382,\n",
       "           424,   428,   436,   457,   467,   480,   610,   630,   640,\n",
       "           663,   691,   746,   750,   856,   906,   942,   995,  1002,\n",
       "          1022,  1047,  1059,  1073,  1084,  1157,  1158,  1186,  1188,\n",
       "          1189,  1274,  1305,  1315,  1381,  1410,  1444,  1507,  1515,\n",
       "          1545,  1553,  1622,  1658,  1681,  1686,  1690,  1693,  1713,\n",
       "          1716,  1796,  1800,  1810,  1811,  1862,  1871,  1894,  1895,\n",
       "          1900,  1933,  1953,  1957,  1972,  1998,  2006,  2008,  2046,\n",
       "          2052,  2099,  2139,  2183,  2206,  2268,  2308,  2368,  2382,\n",
       "          2428,  2437,  2440,  2447,  2459,  2474,  2494,  2562,  2578,\n",
       "          2589,  2617,  2625,  2657,  2691,  2743,  2751,  2770,  2782,\n",
       "          2811,  2890,  2977,  3001,  3053,  3164,  3182,  3203,  3211,\n",
       "          3223,  3293,  3295,  3440,  3511,  3532,  3558,  3615,  3898,\n",
       "          3901,  3916,  3920,  3943,  4013,  4029,  4054,  4055,  4065,\n",
       "          4069,  4077,  4078,  4086,  4088,  4091,  4092,  4096,  4099,\n",
       "          4105,  4109,  4114,  4136,  4139,  4145,  4147,  4158,  4168,\n",
       "          4178,  4200,  4203,  4205,  4210,  4220,  4231,  4232,  4233,\n",
       "          4235,  4239,  4242,  4246,  4250,  4267,  4273,  4286,  4295,\n",
       "          4300,  4301,  4324,  4332,  4333,  4338,  4352,  4358,  4362,\n",
       "          4368,  4373,  4374,  4376,  4383,  4384,  4385,  4391,  4392,\n",
       "          4395,  4406,  4423,  4426,  4440,  4443,  4445,  4450,  4465,\n",
       "          4468,  4470,  4484,  4493,  4506,  4510,  4513,  4518,  4519,\n",
       "          4520,  4528,  4532,  4537,  4541,  4547,  4550,  4559,  4561,\n",
       "          4562,  4563,  4564,  4566,  4567,  4570,  4571,  4572,  4573,\n",
       "          4574,  4575,  4581,  4589,  4593,  4594,  4606,  4608,  4610,\n",
       "          4611,  4615,  4619,  4620,  4630,  4631,  4639,  4656,  4658,\n",
       "          4659,  4671,  4673,  4674,  4676,  4677,  4685,  4691,  4708,\n",
       "          4709,  4722,  4723,  4735,  4742,  4745,  4746,  4747,  4749,\n",
       "          4751,  4753,  4754,  4756,  4761,  4773,  4786,  4790,  4792,\n",
       "          4793,  4794,  4802,  4803,  4804,  4806,  4817,  4819,  4821,\n",
       "          4838,  4845,  4846,  4852,  4855,  4858,  4862,  4863,  4875,\n",
       "          4877,  4878,  4885,  4888,  4892,  4895,  4904,  4908,  4909,\n",
       "          4913,  4915,  4919,  4920,  4925,  4930,  4932,  4938,  4944,\n",
       "          4946,  4949,  4952,  4956,  4964,  4976,  4979,  4982,  4993,\n",
       "          5006,  5011,  5017,  5018,  5022,  5040,  5212,  5279,  5285,\n",
       "          5298,  5308,  5332,  5340,  5364,  5378,  5388,  5396,  5401,\n",
       "          5464,  5472,  5479,  5490,  5545,  5548,  5555,  5574,  5577,\n",
       "          5591,  5627,  5640,  5645,  5670,  5680,  5702,  5711,  5714,\n",
       "          5715,  5740,  5787,  5793,  5807,  5812,  5831,  5839,  5847,\n",
       "          5849,  5867,  5878,  5885,  5905,  5915,  5917,  5923,  5934,\n",
       "          5947,  5949,  5950,  5952,  5958,  5962,  5974,  6022,  6046,\n",
       "          6100,  6102,  6116,  6129,  6133,  6140,  6148,  6163,  6166,\n",
       "          6184,  6201,  6216,  6217,  6557,  6675,  6688,  6724,  6726,\n",
       "          6752,  6783,  6836,  6843,  6865,  6885,  6919,  6955,  6998,\n",
       "          7017,  7019,  7025,  7130,  7138,  7152,  7153,  7159,  7175,\n",
       "          7233,  7362,  7368,  7386,  7406,  7422,  7426,  7446,  7469,\n",
       "          7495,  7657,  7663,  7702,  7706,  7716,  7718,  7729,  7788,\n",
       "          7796,  7814,  7823,  7848,  7873,  7875,  7882,  7884,  7887,\n",
       "          7890,  7897,  7921,  7929,  7989,  8043,  8088,  8094,  8104,\n",
       "          8116,  8137,  8155,  8157,  8160,  8164,  8169,  8229,  8263,\n",
       "          8304,  8340,  8374,  8708,  8763,  8814,  8863,  8970,  9017,\n",
       "          9030,  9166,  9187,  9222,  9301,  9325,  9424,  9456,  9470,\n",
       "          9482,  9496,  9542,  9566,  9578,  9585,  9630,  9671,  9682,\n",
       "          9779,  9795,  9797,  9871,  9873,  9876,  9888,  9916,  9925,\n",
       "          9927,  9941,  9955,  9965,  9977, 10031, 10041, 10053, 10066,\n",
       "         10090, 10092, 10093, 10110, 10114, 10118, 10119, 10157, 10174,\n",
       "         10187, 10197, 10201, 10202, 10203, 10220, 10252, 10264, 10270,\n",
       "         10271, 10317, 10349, 10386, 10389, 10465, 10565, 10571, 10652,\n",
       "         10667, 10675, 10694, 10703, 10728, 10744, 10770, 10788, 10796,\n",
       "         10873, 10880, 10882, 10891, 10903, 10908, 11170, 11189, 11250,\n",
       "         11296, 11374, 11398, 11419, 11458, 11533, 11608, 11663, 11671,\n",
       "         11701, 11762, 11771, 11832, 11929, 12019, 12027, 12028, 12045,\n",
       "         12050, 12057, 12127, 12168, 12317, 12500, 12528, 12608, 12713,\n",
       "         12738, 12754, 12789, 12794, 12809, 12837, 12878, 12893, 12899,\n",
       "         12904, 12929, 12959, 13072, 13088, 13152, 13184, 13223, 13259,\n",
       "         13262, 13364, 13462, 13466, 13476, 13588, 13725, 13729, 13882,\n",
       "         13890, 13922, 13929, 13945, 14074, 14080, 14100, 14121, 14133,\n",
       "         14144, 14190, 14193, 14201, 14213, 14214, 14240, 14246])]]"
      ]
     },
     "execution_count": 310,
     "metadata": {},
     "output_type": "execute_result"
    }
   ],
   "source": [
    "[ list(x) for x in options]"
   ]
  },
  {
   "cell_type": "code",
   "execution_count": null,
   "metadata": {
    "collapsed": true
   },
   "outputs": [],
   "source": []
  }
 ],
 "metadata": {
  "anaconda-cloud": {},
  "kernelspec": {
   "display_name": "Python [conda env:python3]",
   "language": "python",
   "name": "conda-env-python3-py"
  },
  "language_info": {
   "codemirror_mode": {
    "name": "ipython",
    "version": 3
   },
   "file_extension": ".py",
   "mimetype": "text/x-python",
   "name": "python",
   "nbconvert_exporter": "python",
   "pygments_lexer": "ipython3",
   "version": "3.6.0"
  }
 },
 "nbformat": 4,
 "nbformat_minor": 1
}
